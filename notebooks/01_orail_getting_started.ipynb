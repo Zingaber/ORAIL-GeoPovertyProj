{
  "cells": [
    {
      "cell_type": "markdown",
      "metadata": {},
      "source": [
        "# ORAIL CITIZEN AI - Geospatial Poverty Mapping\\n",
        "\\n",
        "## Getting Started with Cursor IDE\\n",
        "\\n",
        "This notebook demonstrates the ORAIL CITIZEN AI framework using existing installations:\\n",
        "- Python 3.12.3 (Anaconda)\\n",
        "- TensorFlow 2.19.0\\n",
        "- PyTorch 2.5.1\\n",
        "- NVIDIA RTX 4070 GPU\\n",
        "\\n",
        "**Project Directory:** C:/Users/josze/MYRworkspace-CitizenAI-poverty-mapping"
      ]
    },
    {
      "cell_type": "code",
      "execution_count": null,
      "metadata": {},
      "source": [
        "# Load ORAIL CITIZEN AI environment\\n",
        "exec(open('../config/environment.py').read())"
      ]
    },
    {
      "cell_type": "code",
      "execution_count": null,
      "metadata": {},
      "source": [
        "# System check\\n",
        "print('System Check:')\\n",
        "print(f'  Working directory: {os.getcwd()}')\\n",
        "print(f'  Python executable: {sys.executable}')\\n",
        "print(f'  Available device: {device}')\\n",
        "print(f'  NumPy version: {np.__version__}')\\n",
        "print(f'  Pandas version: {pd.__version__}')"
      ]
    },
    {
      "cell_type": "code",
      "execution_count": null,
      "metadata": {},
      "source": [
        "# Create sample poverty data\\n",
        "print('Creating sample poverty mapping data...')\\n",
        "\\n",
        "# Generate sample data for poverty mapping\\n",
        "n_locations = 1000\\n",
        "sample_data = pd.DataFrame({\\n",
        "    'latitude': np.random.uniform(14.0, 15.0, n_locations),\\n",
        "    'longitude': np.random.uniform(120.0, 121.0, n_locations),\\n",
        "    'poverty_rate': np.random.beta(2, 5, n_locations),\\n",
        "    'population': np.random.randint(100, 10000, n_locations),\\n",
        "    'education_index': np.random.uniform(0.3, 0.9, n_locations),\\n",
        "    'health_index': np.random.uniform(0.4, 0.95, n_locations),\\n",
        "    'infrastructure_index': np.random.uniform(0.2, 0.8, n_locations)\\n",
        "})\\n",
        "\\n",
        "print(f'Created dataset with {len(sample_data)} locations')\\n",
        "sample_data.head()"
      ]
    },
    {
      "cell_type": "code",
      "execution_count": null,
      "metadata": {},
      "source": [
        "# Basic poverty analysis\\n",
        "print('Basic Poverty Analysis:')\\n",
        "print(f'  Average poverty rate: {sample_data[\\\"poverty_rate\\\"].mean():.3f}')\\n",
        "print(f'  Poverty rate range: {sample_data[\\\"poverty_rate\\\"].min():.3f} - {sample_data[\\\"poverty_rate\\\"].max():.3f}')\\n",
        "print(f'  High poverty areas (>0.3): {(sample_data[\\\"poverty_rate\\\"] > 0.3).sum()}')\\n",
        "\\n",
        "# Create basic visualization\\n",
        "plt.figure(figsize=(12, 8))\\n",
        "scatter = plt.scatter(sample_data['longitude'], sample_data['latitude'], \\n",
        "                     c=sample_data['poverty_rate'], cmap='Reds', \\n",
        "                     alpha=0.6, s=30)\\n",
        "plt.colorbar(scatter, label='Poverty Rate')\\n",
        "plt.xlabel('Longitude')\\n",
        "plt.ylabel('Latitude')\\n",
        "plt.title('ORAIL CITIZEN AI - Sample Poverty Distribution Map')\\n",
        "plt.grid(True, alpha=0.3)\\n",
        "plt.show()\\n",
        "\\n",
        "print('Basic analysis complete')"
      ]
    },
    {
      "cell_type": "markdown",
      "metadata": {},
      "source": [
        "## Next Steps\\n",
        "\\n",
        "1. **Explore Data**: Load real satellite imagery and census data\\n",
        "2. **Feature Engineering**: Extract geospatial features for ML models\\n",
        "3. **Model Training**: Train poverty prediction models using TensorFlow/PyTorch\\n",
        "4. **3D Visualization**: Create 3D poverty surface maps\\n",
        "5. **LLM Integration**: Add natural language insights and explanations\\n",
        "\\n",
        "## Useful Commands for Cursor IDE\\n",
        "\\n",
        "- **Ctrl+Shift+P**: Command palette\\n",
        "- **Ctrl+`**: Open terminal\\n",
        "- **Shift+Enter**: Run code cell\\n",
        "- **Ctrl+Shift+L**: Format code\\n",
        "- **F12**: Go to definition"
      ]
    }
  ],
  "metadata": {
    "kernelspec": {
      "display_name": "Python 3",
      "language": "python",
      "name": "python3"
    },
    "language_info": {
      "name": "python",
      "version": "3.12.3"
    }
  },
  "nbformat": 4,
  "nbformat_minor": 4
}