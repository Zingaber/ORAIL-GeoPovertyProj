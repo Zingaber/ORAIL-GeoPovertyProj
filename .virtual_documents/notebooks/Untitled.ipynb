# ORAIL CITIZEN AI - Environment Setup
exec(open('../config/environment.py').read())

print("ORAIL CITIZEN AI - Jupyter Lab Session Started")
print("=" * 50)



# Verify your powerful system setup
import sys
print(f"Python: {sys.version}")
print(f"Working from: {os.getcwd()}")

# Check your existing packages
try:
    import numpy as np
    import pandas as pd
    import matplotlib.pyplot as plt
    print(f"NumPy: {np.__version__}")
    print(f"Pandas: {pd.__version__}")
    print("Basic packages: OK")
except ImportError as e:
    print(f"Package error: {e}")

# Check your GPU
try:
    import torch
    if torch.cuda.is_available():
        print(f"GPU: {torch.cuda.get_device_name(0)}")
        print(f"CUDA: {torch.version.cuda}")
    else:
        print("GPU: CPU mode")
except ImportError:
    print("PyTorch: Not available")

try:
    import tensorflow as tf
    print(f"TensorFlow: {tf.__version__}")
    gpus = tf.config.list_physical_devices('GPU')
    print(f"TF GPUs: {len(gpus)}")
except ImportError:
    print("TensorFlow: Not available")
    


# Create sample poverty mapping data
import numpy as np
import pandas as pd
import matplotlib.pyplot as plt

print("Creating ORAIL poverty mapping demonstration...")

# Generate sample data (representing Philippine region)
np.random.seed(42)
n_locations = 1000

poverty_data = pd.DataFrame({
    'latitude': np.random.uniform(14.0, 15.0, n_locations),
    'longitude': np.random.uniform(120.0, 121.0, n_locations),
    'poverty_rate': np.random.beta(2, 5, n_locations),
    'population': np.random.randint(100, 10000, n_locations),
    'education_index': np.random.uniform(0.3, 0.9, n_locations),
    'health_index': np.random.uniform(0.4, 0.95, n_locations),
    'infrastructure_index': np.random.uniform(0.2, 0.8, n_locations)
})

print(f"Dataset: {len(poverty_data)} locations")
print(f"Avg poverty rate: {poverty_data['poverty_rate'].mean():.3f}")
print(f"High poverty areas: {(poverty_data['poverty_rate'] > 0.3).sum()}")

poverty_data.head()





# Create poverty distribution map
plt.figure(figsize=(12, 8))

scatter = plt.scatter(poverty_data['longitude'], poverty_data['latitude'], 
                     c=poverty_data['poverty_rate'], 
                     cmap='Reds', alpha=0.7, s=40)

plt.colorbar(scatter, label='Poverty Rate')
plt.xlabel('Longitude')
plt.ylabel('Latitude')
plt.title('ORAIL CITIZEN AI - Poverty Distribution Map\nUsing Your Dell G16 7630 + RTX 4070 Setup')
plt.grid(True, alpha=0.3)

# Save the visualization
plt.savefig('../outputs/visualizations/orail_first_map.png', 
            dpi=300, bbox_inches='tight')
plt.show()

print("Map saved to: outputs/visualizations/orail_first_map.png")


# Save the demonstration data
poverty_data.to_csv('../data/processed/orail_demo_data.csv', index=False)

# Create summary
summary = poverty_data.describe()
print("Data Summary:")
print(summary)

print("\nORail CITIZEN AI demonstration complete!")
print("Files created:")
print("- data/processed/orail_demo_data.csv")
print("- outputs/visualizations/orail_first_map.png")



